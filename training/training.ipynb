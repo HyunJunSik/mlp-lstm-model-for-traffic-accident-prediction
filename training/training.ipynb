{
 "cells": [
  {
   "cell_type": "code",
   "execution_count": 1,
   "metadata": {},
   "outputs": [],
   "source": [
    "import pandas as pd\n",
    "import numpy as np"
   ]
  },
  {
   "attachments": {},
   "cell_type": "markdown",
   "metadata": {},
   "source": [
    "## Reading CSV files in dynamic directory"
   ]
  },
  {
   "cell_type": "code",
   "execution_count": 98,
   "metadata": {},
   "outputs": [],
   "source": [
    "traffic_data = pd.read_csv(\"../dynamic/traffic_data.csv\", encoding='cp949')\n",
    "traffic_5min_before = pd.read_csv(\"../dynamic/traffic_5min_before_data.csv\", encoding='cp949')\n",
    "traffic_10min_before = pd.read_csv(\"../dynamic/traffic_10min_before_data.csv\", encoding='cp949')\n",
    "\n",
    "non_traffic_data = pd.read_csv(\"../dynamic/non_traffic_data.csv\", encoding='cp949')\n",
    "non_traffic_5min_before = pd.read_csv(\"../dynamic/non_traffic_5min_before_data.csv\", encoding='cp949')\n",
    "non_traffic_10min_before = pd.read_csv(\"../dynamic/non_traffic_10min_before_data.csv\", encoding='cp949')"
   ]
  },
  {
   "attachments": {},
   "cell_type": "markdown",
   "metadata": {},
   "source": [
    "## Reading CSV files in static directory"
   ]
  },
  {
   "cell_type": "code",
   "execution_count": 99,
   "metadata": {},
   "outputs": [],
   "source": [
    "static_traffic = pd.read_csv(\"../static/static_dataset.csv\", encoding='cp949')\n",
    "static_non_traffic = pd.read_csv(\"../static/non_static_dataset.csv\", encoding='cp949')"
   ]
  },
  {
   "attachments": {},
   "cell_type": "markdown",
   "metadata": {},
   "source": [
    "### Drop the Beat"
   ]
  },
  {
   "cell_type": "code",
   "execution_count": 100,
   "metadata": {},
   "outputs": [],
   "source": [
    "accident_data = traffic_data.drop(['Unnamed: 0', 'datetime', 'link', 'label'], axis=1)\n",
    "accident_data_5min = traffic_5min_before.drop(['Unnamed: 0', 'datetime', 'link', 'label'], axis=1)\n",
    "accident_data_10min = traffic_10min_before.drop(['Unnamed: 0', 'datetime', 'link', 'label'], axis=1)\n",
    "\n",
    "accident_label = traffic_data['label']"
   ]
  },
  {
   "cell_type": "code",
   "execution_count": 101,
   "metadata": {},
   "outputs": [],
   "source": [
    "non_accident_data = non_traffic_data.drop(['Unnamed: 0', 'datetime', 'link', 'label'], axis=1)\n",
    "non_accident_data_5min = non_traffic_5min_before.drop(['Unnamed: 0', 'datetime', 'link', 'label'], axis=1)\n",
    "non_accident_data_10min = non_traffic_10min_before.drop(['Unnamed: 0', 'datetime', 'link', 'label'], axis=1)\n",
    "\n",
    "non_accident_label = non_traffic_data['label']"
   ]
  },
  {
   "cell_type": "code",
   "execution_count": 102,
   "metadata": {},
   "outputs": [],
   "source": [
    "\n",
    "accident_data = accident_data.replace('nan', np.nan)\n",
    "accident_data_10min = accident_data_10min.replace('nan', np.nan)\n",
    "accident_data_5min = accident_data_5min.replace('nan', np.nan)\n",
    "\n",
    "non_accident_data = non_accident_data.replace('nan', np.nan)\n",
    "non_accident_data_10min = non_accident_data_10min.replace('nan', np.nan)\n",
    "non_accident_data_5min = non_accident_data_5min.replace('nan', np.nan)\n",
    "\n"
   ]
  },
  {
   "attachments": {},
   "cell_type": "markdown",
   "metadata": {},
   "source": [
    "## NaN 혹은 이상치(outlier) 제거  -> non_accident_data들은 태양 방위각에서 nan이 존재 "
   ]
  },
  {
   "cell_type": "code",
   "execution_count": 85,
   "metadata": {},
   "outputs": [
    {
     "name": "stdout",
     "output_type": "stream",
     "text": [
      "Int64Index([2398, 33265], dtype='int64')\n",
      "Int64Index([2398, 33265], dtype='int64')\n",
      "Int64Index([2398, 33265], dtype='int64')\n"
     ]
    }
   ],
   "source": [
    "# Nan 값 인덱스 탐색 \n",
    "\n",
    "print(non_accident_data[non_accident_data.isnull().any(axis=1)].index)\n",
    "print(non_accident_data_10min[non_accident_data_10min.isnull().any(axis=1)].index)\n",
    "print(non_accident_data_5min[non_accident_data_5min.isnull().any(axis=1)].index)\n",
    "\n",
    "# nan 값은 non_accident_data의 2398, 33265 인덱스에 존재"
   ]
  },
  {
   "attachments": {},
   "cell_type": "markdown",
   "metadata": {},
   "source": [
    "## NaN 혹은 이상치(outlier) 제거 -> speed 이상치 존재 : non_accident_data, non_accident_data_5min, accident_data"
   ]
  },
  {
   "cell_type": "code",
   "execution_count": 72,
   "metadata": {},
   "outputs": [
    {
     "name": "stdout",
     "output_type": "stream",
     "text": [
      "Int64Index([8660], dtype='int64')\n",
      "Int64Index([8660], dtype='int64')\n",
      "Int64Index([40200], dtype='int64')\n"
     ]
    }
   ],
   "source": [
    "# speed 최대값 인덱스 탐색\n",
    "\n",
    "print(non_accident_data[non_accident_data['speed'] == non_accident_data['speed'].max()].index)\n",
    "print(non_accident_data_5min[non_accident_data_5min['speed'] == non_accident_data_5min['speed'].max()].index)\n",
    "print(accident_data[accident_data['speed'] == accident_data['speed'].max()].index)\n",
    "\n",
    "# non_accident -> 8660 제거\n",
    "# accident -> 40200 제거"
   ]
  },
  {
   "attachments": {},
   "cell_type": "markdown",
   "metadata": {},
   "source": [
    "## 지워야하는 인덱스 \n",
    "### accident : 40200\n",
    "### non_accident : 2398, 8660, 33265, 34917"
   ]
  },
  {
   "cell_type": "code",
   "execution_count": 103,
   "metadata": {},
   "outputs": [],
   "source": [
    "non_accident_data = non_accident_data.drop([2398, 8660, 33265, 34917], axis=0)\n",
    "non_accident_data_5min = non_accident_data_5min.drop([2398, 8660, 33265, 34917], axis=0)\n",
    "non_accident_data_10min = non_accident_data_10min.drop([2398, 8660, 33265, 34917], axis=0)\n",
    "static_non_traffic = static_non_traffic.drop([2398, 8660, 33265, 34917], axis=0)\n",
    "non_accident_label = non_accident_label.drop([2398, 8660, 33265, 34917], axis=0)\n",
    "\n",
    "accident_data = accident_data.drop([40200], axis=0)\n",
    "accident_data_5min = accident_data_5min.drop([40200], axis=0)\n",
    "accident_data_10min = accident_data_10min.drop([40200], axis=0)\n",
    "static_traffic = static_traffic.drop([40200], axis=0)\n",
    "accident_label = accident_label.drop([40200], axis=0)"
   ]
  },
  {
   "cell_type": "code",
   "execution_count": 104,
   "metadata": {},
   "outputs": [],
   "source": [
    "non_accident_data = non_accident_data.reset_index(drop=True)\n",
    "non_accident_data_5min = non_accident_data_5min.reset_index(drop=True)\n",
    "non_accident_data_10min = non_accident_data_10min.reset_index(drop=True)\n",
    "static_non_traffic = static_non_traffic.reset_index(drop=True)\n",
    "non_accident_label = non_accident_label.reset_index(drop=True)\n",
    "\n",
    "accident_data = accident_data.reset_index(drop=True)\n",
    "accident_data_5min = accident_data_5min.reset_index(drop=True)\n",
    "accident_data_10min = accident_data_10min.reset_index(drop=True)\n",
    "static_traffic = static_traffic.reset_index(drop=True)\n",
    "accident_label = accident_label.reset_index(drop=True)"
   ]
  },
  {
   "attachments": {},
   "cell_type": "markdown",
   "metadata": {},
   "source": [
    "## Min-Max Normalization \n",
    "### rain : 0 ~ 100\n",
    "### humid : 0 ~ 100\n",
    "### temp : -20 ~ 40\n",
    "### visibility : 0 ~ 6000\n",
    "### dew_point : -40 ~ 40\n",
    "### cloud : 0 ~ 20\n",
    "### ground_temp : -20 ~ 70\n",
    "### vaper_press : 0 ~ 40\n",
    "### sun_diff_angle : 0 ~ 180 \n",
    "### sun_elevation : 0 ~ 90\n",
    "### speed : 0 ~ 160"
   ]
  },
  {
   "cell_type": "code",
   "execution_count": 112,
   "metadata": {},
   "outputs": [],
   "source": [
    "# static['length'] = (static['length'] - static['length'].min()) / (static['length'].max() - static['length'].min())\n",
    "# non_static['length'] = (non_static['length'] - non_static['length'].min()) / (non_static['length'].max() - non_static['length'].min())\n",
    "for i in [accident_data, accident_data_10min, accident_data_5min, non_accident_data, non_accident_data_10min, non_accident_data_5min]:\n",
    "    i['rain'] = i['rain'] / 100\n",
    "    i['humid'] = i['humid'] / 100\n",
    "    i['temp'] = (i['temp'] + 20) / 60\n",
    "    i['visibility'] = i['visibility'] / 6000\n",
    "    i['dew_point'] = (i['dew_point'] + 40) / 80\n",
    "    i['cloud'] = i['cloud'] / 20\n",
    "    i['ground_temp'] = (i['ground_temp'] + 20) / 90\n",
    "    i['vaper_press'] = i['vaper_press'] / 40\n",
    "    i['sun_diff_angle'] = i['sun_diff_angle'] / 180\n",
    "    i['sun_elevation'] = i['sun_elevation'] / 90\n",
    "    i['speed'] = i['speed'] / 160"
   ]
  },
  {
   "attachments": {},
   "cell_type": "markdown",
   "metadata": {},
   "source": [
    "### Static MinMax Normalization \n",
    "## length : 10 ~ 9200"
   ]
  },
  {
   "cell_type": "code",
   "execution_count": 117,
   "metadata": {},
   "outputs": [],
   "source": [
    "for i in [static_traffic, static_non_traffic]:\n",
    "    i['length'] = (i['length'] - 10) / (9200 - 10)"
   ]
  },
  {
   "cell_type": "code",
   "execution_count": 118,
   "metadata": {},
   "outputs": [
    {
     "name": "stderr",
     "output_type": "stream",
     "text": [
      "/opt/anaconda3/envs/myenv2/lib/python3.10/site-packages/scipy/__init__.py:146: UserWarning: A NumPy version >=1.16.5 and <1.23.0 is required for this version of SciPy (detected version 1.23.5\n",
      "  warnings.warn(f\"A NumPy version >={np_minversion} and <{np_maxversion}\"\n"
     ]
    }
   ],
   "source": [
    "from sklearn.preprocessing import StandardScaler\n",
    "\n",
    "accident_data = accident_data.values\n",
    "accident_data_5min = accident_data_5min.values\n",
    "accident_data_10min = accident_data_10min.values\n",
    "accident_label = accident_label.values\n",
    "\n",
    "non_accident_data = non_accident_data.values\n",
    "non_accident_data_5min = non_accident_data_5min.values\n",
    "non_accident_data_10min = non_accident_data_10min.values\n",
    "non_accident_label = non_accident_label.values\n",
    "\n",
    "# scaler = StandardScaler()\n",
    "# accident_data = scaler.fit_transform(accident_data)\n",
    "\n",
    "# accident_data_5min = scaler.transform(accident_data_5min)\n",
    "\n",
    "# accident_data_10min = scaler.transform(accident_data_10min)\n",
    "\n",
    "\n",
    "# non_accident_data = scaler.transform(non_accident_data)\n",
    "\n",
    "\n",
    "# non_accident_data_5min = scaler.transform(non_accident_data_5min)\n",
    "\n",
    "\n",
    "# non_accident_data_10min = scaler.transform(non_accident_data_10min)"
   ]
  },
  {
   "attachments": {},
   "cell_type": "markdown",
   "metadata": {},
   "source": [
    "## Making Sequence Sets"
   ]
  },
  {
   "cell_type": "code",
   "execution_count": 120,
   "metadata": {},
   "outputs": [],
   "source": [
    "X, Y = [], []\n",
    "for i in range(len(accident_data)):\n",
    "    X.append([accident_data_10min[i], accident_data_5min[i], accident_data[i]])\n",
    "    Y.append(accident_label[i])\n",
    "for i in range(len(non_accident_data)):\n",
    "    X.append([non_accident_data_10min[i], non_accident_data_5min[i], non_accident_data[i]])\n",
    "    Y.append(non_accident_label[i])\n",
    "\n",
    "X = np.array(X)\n",
    "X = np.nan_to_num(X)\n",
    "Y = np.array(Y)"
   ]
  },
  {
   "attachments": {},
   "cell_type": "markdown",
   "metadata": {},
   "source": [
    "### So, We have Sequence Sets that shape is (83132, 3, 11) -> total training data : 83132, time steps : 3, features : 11"
   ]
  },
  {
   "cell_type": "code",
   "execution_count": 122,
   "metadata": {},
   "outputs": [],
   "source": [
    "from sklearn.model_selection import train_test_split\n",
    "\n",
    "X_train, X_test, Y_train, Y_test = train_test_split(X, Y, test_size=0.2, random_state=42, shuffle=True)\n",
    "X_val, X_test, Y_val, Y_test = train_test_split(X_test, Y_test, test_size=0.5, random_state=42, shuffle=True)"
   ]
  },
  {
   "attachments": {},
   "cell_type": "markdown",
   "metadata": {},
   "source": [
    "### static data pre-processing for Dense Layer training"
   ]
  },
  {
   "cell_type": "code",
   "execution_count": 123,
   "metadata": {},
   "outputs": [],
   "source": [
    "static = static_traffic.drop(['Unnamed: 0', 'datetime', 'link', 'label'], axis=1)\n",
    "static_label = static_traffic['label']\n",
    "non_static = static_non_traffic.drop(['Unnamed: 0', 'datetime', 'link', 'label'], axis=1)\n",
    "non_static_label = static_non_traffic['label']"
   ]
  },
  {
   "cell_type": "code",
   "execution_count": 124,
   "metadata": {},
   "outputs": [],
   "source": [
    "from sklearn.preprocessing import StandardScaler\n",
    "\n",
    "static = static.values\n",
    "non_static = non_static.values\n",
    "\n",
    "# scaler = StandardScaler()\n",
    "# static = scaler.fit_transform(static)\n",
    "# non_static = scaler.transform(non_static)"
   ]
  },
  {
   "cell_type": "code",
   "execution_count": 125,
   "metadata": {},
   "outputs": [],
   "source": [
    "sX, sY = [], []\n",
    "\n",
    "for i in range(len(static)):\n",
    "    sX.append(static[i])\n",
    "    sY.append(static_label[i])\n",
    "\n",
    "for i in range(len(non_static)):\n",
    "    sX.append(non_static[i])\n",
    "    sY.append(non_static_label[i])\n",
    "\n",
    "sX = np.array(sX)\n",
    "sY = np.array(sY)\n",
    "\n",
    "from sklearn.model_selection import train_test_split\n",
    "sX_train, sX_test, sY_train, sY_test = train_test_split(sX, sY, test_size=0.2, random_state=42, shuffle=True)\n",
    "sX_val, sX_test, sY_val, sY_test = train_test_split(sX_test, sY_test, test_size=0.5, random_state=42, shuffle=True)"
   ]
  },
  {
   "attachments": {},
   "cell_type": "markdown",
   "metadata": {},
   "source": [
    "### Model Training"
   ]
  },
  {
   "cell_type": "code",
   "execution_count": 127,
   "metadata": {},
   "outputs": [
    {
     "name": "stdout",
     "output_type": "stream",
     "text": [
      "Model: \"model\"\n",
      "__________________________________________________________________________________________________\n",
      " Layer (type)                   Output Shape         Param #     Connected to                     \n",
      "==================================================================================================\n",
      " input_1 (InputLayer)           [(None, 3, 11)]      0           []                               \n",
      "                                                                                                  \n",
      " lstm (LSTM)                    (None, 3, 128)       71680       ['input_1[0][0]']                \n",
      "                                                                                                  \n",
      " input_2 (InputLayer)           [(None, 10)]         0           []                               \n",
      "                                                                                                  \n",
      " lstm_1 (LSTM)                  (None, 64)           49408       ['lstm[0][0]']                   \n",
      "                                                                                                  \n",
      " dense (Dense)                  (None, 20)           220         ['input_2[0][0]']                \n",
      "                                                                                                  \n",
      " concatenate (Concatenate)      (None, 84)           0           ['lstm_1[0][0]',                 \n",
      "                                                                  'dense[0][0]']                  \n",
      "                                                                                                  \n",
      " dense_1 (Dense)                (None, 1)            85          ['concatenate[0][0]']            \n",
      "                                                                                                  \n",
      "==================================================================================================\n",
      "Total params: 121,393\n",
      "Trainable params: 121,393\n",
      "Non-trainable params: 0\n",
      "__________________________________________________________________________________________________\n"
     ]
    }
   ],
   "source": [
    "from keras.layers import LSTM, Dense, Dropout, Input, concatenate\n",
    "from keras.models import Model\n",
    "import tensorflow as tf\n",
    "\n",
    "dy_input = Input(shape=(X.shape[1], X.shape[2]))\n",
    "st_input = Input(shape=(sX.shape[1],))\n",
    "\n",
    "lstm = LSTM(128, return_sequences=True)(dy_input)\n",
    "lstm = LSTM(64)(lstm)\n",
    "dense = Dense(20, activation='relu')(st_input)\n",
    "\n",
    "x = concatenate([lstm, dense])\n",
    "x = Dense(1, activation='sigmoid')(x)\n",
    "\n",
    "model = Model(inputs=[dy_input, st_input], outputs=x)\n",
    "model.compile(loss='binary_crossentropy', optimizer='adam', metrics=['accuracy', tf.keras.metrics.AUC(), tf.keras.metrics.Precision(), tf.keras.metrics.Recall(), tf.keras.metrics.BinaryAccuracy()])\n",
    "\n",
    "model.summary()"
   ]
  },
  {
   "cell_type": "code",
   "execution_count": 128,
   "metadata": {},
   "outputs": [
    {
     "name": "stdout",
     "output_type": "stream",
     "text": [
      "Epoch 1/50\n"
     ]
    },
    {
     "name": "stderr",
     "output_type": "stream",
     "text": [
      "2023-02-27 17:52:08.848708: W tensorflow/core/platform/profile_utils/cpu_utils.cc:128] Failed to get CPU frequency: 0 Hz\n"
     ]
    },
    {
     "name": "stdout",
     "output_type": "stream",
     "text": [
      "1040/1040 [==============================] - 7s 5ms/step - loss: 0.5954 - accuracy: 0.6678 - auc: 0.7387 - precision: 0.6753 - recall: 0.7450 - binary_accuracy: 0.6678 - val_loss: 0.5546 - val_accuracy: 0.7019 - val_auc: 0.7855 - val_precision: 0.7140 - val_recall: 0.7508 - val_binary_accuracy: 0.7019\n",
      "Epoch 2/50\n",
      "1040/1040 [==============================] - 5s 5ms/step - loss: 0.5341 - accuracy: 0.7212 - auc: 0.8057 - precision: 0.7318 - recall: 0.7660 - binary_accuracy: 0.7212 - val_loss: 0.5113 - val_accuracy: 0.7378 - val_auc: 0.8256 - val_precision: 0.7362 - val_recall: 0.8045 - val_binary_accuracy: 0.7378\n",
      "Epoch 3/50\n",
      "1040/1040 [==============================] - 5s 5ms/step - loss: 0.4965 - accuracy: 0.7490 - auc: 0.8375 - precision: 0.7666 - recall: 0.7716 - binary_accuracy: 0.7490 - val_loss: 0.4843 - val_accuracy: 0.7604 - val_auc: 0.8475 - val_precision: 0.7720 - val_recall: 0.7918 - val_binary_accuracy: 0.7604\n",
      "Epoch 4/50\n",
      "1040/1040 [==============================] - 5s 5ms/step - loss: 0.4714 - accuracy: 0.7682 - auc: 0.8566 - precision: 0.7927 - recall: 0.7745 - binary_accuracy: 0.7682 - val_loss: 0.4598 - val_accuracy: 0.7793 - val_auc: 0.8656 - val_precision: 0.8200 - val_recall: 0.7594 - val_binary_accuracy: 0.7793\n",
      "Epoch 5/50\n",
      "1040/1040 [==============================] - 5s 5ms/step - loss: 0.4518 - accuracy: 0.7814 - auc: 0.8698 - precision: 0.8073 - recall: 0.7836 - binary_accuracy: 0.7814 - val_loss: 0.4498 - val_accuracy: 0.7897 - val_auc: 0.8734 - val_precision: 0.7998 - val_recall: 0.8165 - val_binary_accuracy: 0.7897\n",
      "Epoch 6/50\n",
      "1040/1040 [==============================] - 5s 5ms/step - loss: 0.4435 - accuracy: 0.7880 - auc: 0.8754 - precision: 0.8141 - recall: 0.7887 - binary_accuracy: 0.7880 - val_loss: 0.4425 - val_accuracy: 0.7941 - val_auc: 0.8765 - val_precision: 0.8287 - val_recall: 0.7816 - val_binary_accuracy: 0.7941\n",
      "Epoch 7/50\n",
      "1040/1040 [==============================] - 5s 5ms/step - loss: 0.4384 - accuracy: 0.7919 - auc: 0.8789 - precision: 0.8180 - recall: 0.7920 - binary_accuracy: 0.7919 - val_loss: 0.4390 - val_accuracy: 0.7939 - val_auc: 0.8769 - val_precision: 0.8248 - val_recall: 0.7870 - val_binary_accuracy: 0.7939\n",
      "Epoch 8/50\n",
      "1040/1040 [==============================] - 5s 5ms/step - loss: 0.4351 - accuracy: 0.7936 - auc: 0.8811 - precision: 0.8177 - recall: 0.7967 - binary_accuracy: 0.7936 - val_loss: 0.4359 - val_accuracy: 0.7994 - val_auc: 0.8809 - val_precision: 0.8396 - val_recall: 0.7785 - val_binary_accuracy: 0.7994\n",
      "Epoch 9/50\n",
      "1040/1040 [==============================] - 5s 5ms/step - loss: 0.4318 - accuracy: 0.7966 - auc: 0.8834 - precision: 0.8204 - recall: 0.7995 - binary_accuracy: 0.7966 - val_loss: 0.4329 - val_accuracy: 0.7989 - val_auc: 0.8820 - val_precision: 0.8266 - val_recall: 0.7958 - val_binary_accuracy: 0.7989\n",
      "Epoch 10/50\n",
      "1040/1040 [==============================] - 5s 5ms/step - loss: 0.4295 - accuracy: 0.7977 - auc: 0.8848 - precision: 0.8210 - recall: 0.8013 - binary_accuracy: 0.7977 - val_loss: 0.4307 - val_accuracy: 0.8019 - val_auc: 0.8846 - val_precision: 0.8325 - val_recall: 0.7943 - val_binary_accuracy: 0.8019\n",
      "Epoch 11/50\n",
      "1040/1040 [==============================] - 5s 5ms/step - loss: 0.4278 - accuracy: 0.7989 - auc: 0.8858 - precision: 0.8215 - recall: 0.8032 - binary_accuracy: 0.7989 - val_loss: 0.4339 - val_accuracy: 0.7971 - val_auc: 0.8836 - val_precision: 0.8507 - val_recall: 0.7588 - val_binary_accuracy: 0.7971\n",
      "Epoch 12/50\n",
      "1040/1040 [==============================] - 5s 5ms/step - loss: 0.4266 - accuracy: 0.7991 - auc: 0.8867 - precision: 0.8213 - recall: 0.8041 - binary_accuracy: 0.7991 - val_loss: 0.4289 - val_accuracy: 0.8016 - val_auc: 0.8851 - val_precision: 0.8164 - val_recall: 0.8180 - val_binary_accuracy: 0.8016\n",
      "Epoch 13/50\n",
      "1040/1040 [==============================] - 5s 5ms/step - loss: 0.4247 - accuracy: 0.8011 - auc: 0.8878 - precision: 0.8232 - recall: 0.8060 - binary_accuracy: 0.8011 - val_loss: 0.4295 - val_accuracy: 0.8021 - val_auc: 0.8845 - val_precision: 0.8262 - val_recall: 0.8040 - val_binary_accuracy: 0.8021\n",
      "Epoch 14/50\n",
      "1040/1040 [==============================] - 5s 5ms/step - loss: 0.4235 - accuracy: 0.8018 - auc: 0.8884 - precision: 0.8229 - recall: 0.8080 - binary_accuracy: 0.8018 - val_loss: 0.4263 - val_accuracy: 0.8033 - val_auc: 0.8865 - val_precision: 0.8299 - val_recall: 0.8014 - val_binary_accuracy: 0.8033\n",
      "Epoch 15/50\n",
      "1040/1040 [==============================] - 5s 5ms/step - loss: 0.4221 - accuracy: 0.8017 - auc: 0.8891 - precision: 0.8228 - recall: 0.8081 - binary_accuracy: 0.8017 - val_loss: 0.4263 - val_accuracy: 0.8045 - val_auc: 0.8879 - val_precision: 0.8172 - val_recall: 0.8236 - val_binary_accuracy: 0.8045\n",
      "Epoch 16/50\n",
      "1040/1040 [==============================] - 5s 5ms/step - loss: 0.4207 - accuracy: 0.8030 - auc: 0.8900 - precision: 0.8231 - recall: 0.8105 - binary_accuracy: 0.8030 - val_loss: 0.4246 - val_accuracy: 0.8022 - val_auc: 0.8868 - val_precision: 0.8328 - val_recall: 0.7947 - val_binary_accuracy: 0.8022\n",
      "Epoch 17/50\n",
      "1040/1040 [==============================] - 5s 5ms/step - loss: 0.4196 - accuracy: 0.8031 - auc: 0.8906 - precision: 0.8239 - recall: 0.8095 - binary_accuracy: 0.8031 - val_loss: 0.4286 - val_accuracy: 0.7973 - val_auc: 0.8859 - val_precision: 0.8429 - val_recall: 0.7694 - val_binary_accuracy: 0.7973\n",
      "Epoch 18/50\n",
      "1040/1040 [==============================] - 5s 5ms/step - loss: 0.4188 - accuracy: 0.8040 - auc: 0.8910 - precision: 0.8246 - recall: 0.8107 - binary_accuracy: 0.8040 - val_loss: 0.4237 - val_accuracy: 0.8036 - val_auc: 0.8885 - val_precision: 0.8352 - val_recall: 0.7943 - val_binary_accuracy: 0.8036\n",
      "Epoch 19/50\n",
      "1040/1040 [==============================] - 5s 5ms/step - loss: 0.4179 - accuracy: 0.8048 - auc: 0.8915 - precision: 0.8245 - recall: 0.8125 - binary_accuracy: 0.8048 - val_loss: 0.4253 - val_accuracy: 0.8007 - val_auc: 0.8887 - val_precision: 0.8470 - val_recall: 0.7716 - val_binary_accuracy: 0.8007\n",
      "Epoch 20/50\n",
      "1040/1040 [==============================] - 5s 5ms/step - loss: 0.4169 - accuracy: 0.8051 - auc: 0.8921 - precision: 0.8263 - recall: 0.8107 - binary_accuracy: 0.8051 - val_loss: 0.4234 - val_accuracy: 0.8016 - val_auc: 0.8877 - val_precision: 0.8101 - val_recall: 0.8282 - val_binary_accuracy: 0.8016\n",
      "Epoch 21/50\n",
      "1040/1040 [==============================] - 5s 5ms/step - loss: 0.4163 - accuracy: 0.8044 - auc: 0.8923 - precision: 0.8256 - recall: 0.8101 - binary_accuracy: 0.8044 - val_loss: 0.4224 - val_accuracy: 0.8025 - val_auc: 0.8893 - val_precision: 0.8408 - val_recall: 0.7841 - val_binary_accuracy: 0.8025\n",
      "Epoch 22/50\n",
      "1040/1040 [==============================] - 5s 5ms/step - loss: 0.4158 - accuracy: 0.8054 - auc: 0.8927 - precision: 0.8259 - recall: 0.8119 - binary_accuracy: 0.8054 - val_loss: 0.4225 - val_accuracy: 0.7994 - val_auc: 0.8881 - val_precision: 0.8336 - val_recall: 0.7870 - val_binary_accuracy: 0.7994\n",
      "Epoch 23/50\n",
      "1040/1040 [==============================] - 5s 5ms/step - loss: 0.4143 - accuracy: 0.8064 - auc: 0.8935 - precision: 0.8272 - recall: 0.8124 - binary_accuracy: 0.8064 - val_loss: 0.4216 - val_accuracy: 0.7991 - val_auc: 0.8891 - val_precision: 0.8307 - val_recall: 0.7905 - val_binary_accuracy: 0.7991\n",
      "Epoch 24/50\n",
      "1040/1040 [==============================] - 5s 5ms/step - loss: 0.4141 - accuracy: 0.8057 - auc: 0.8935 - precision: 0.8267 - recall: 0.8114 - binary_accuracy: 0.8057 - val_loss: 0.4229 - val_accuracy: 0.7994 - val_auc: 0.8882 - val_precision: 0.8295 - val_recall: 0.7927 - val_binary_accuracy: 0.7994\n",
      "Epoch 25/50\n",
      "1040/1040 [==============================] - 5s 5ms/step - loss: 0.4129 - accuracy: 0.8061 - auc: 0.8942 - precision: 0.8270 - recall: 0.8120 - binary_accuracy: 0.8061 - val_loss: 0.4209 - val_accuracy: 0.8027 - val_auc: 0.8890 - val_precision: 0.8297 - val_recall: 0.8003 - val_binary_accuracy: 0.8027\n",
      "Epoch 26/50\n",
      "1040/1040 [==============================] - 5s 5ms/step - loss: 0.4114 - accuracy: 0.8077 - auc: 0.8951 - precision: 0.8281 - recall: 0.8139 - binary_accuracy: 0.8077 - val_loss: 0.4191 - val_accuracy: 0.8042 - val_auc: 0.8905 - val_precision: 0.8308 - val_recall: 0.8020 - val_binary_accuracy: 0.8042\n",
      "Epoch 27/50\n",
      "1040/1040 [==============================] - 5s 5ms/step - loss: 0.4096 - accuracy: 0.8088 - auc: 0.8962 - precision: 0.8298 - recall: 0.8140 - binary_accuracy: 0.8088 - val_loss: 0.4186 - val_accuracy: 0.8044 - val_auc: 0.8895 - val_precision: 0.8288 - val_recall: 0.8056 - val_binary_accuracy: 0.8044\n",
      "Epoch 28/50\n",
      "1040/1040 [==============================] - 5s 5ms/step - loss: 0.4089 - accuracy: 0.8097 - auc: 0.8965 - precision: 0.8303 - recall: 0.8154 - binary_accuracy: 0.8097 - val_loss: 0.4195 - val_accuracy: 0.8027 - val_auc: 0.8905 - val_precision: 0.8466 - val_recall: 0.7767 - val_binary_accuracy: 0.8027\n",
      "Epoch 29/50\n",
      "1040/1040 [==============================] - 5s 5ms/step - loss: 0.4079 - accuracy: 0.8090 - auc: 0.8970 - precision: 0.8294 - recall: 0.8151 - binary_accuracy: 0.8090 - val_loss: 0.4178 - val_accuracy: 0.8027 - val_auc: 0.8913 - val_precision: 0.8420 - val_recall: 0.7830 - val_binary_accuracy: 0.8027\n",
      "Epoch 30/50\n",
      "1040/1040 [==============================] - 5s 5ms/step - loss: 0.4068 - accuracy: 0.8100 - auc: 0.8979 - precision: 0.8300 - recall: 0.8166 - binary_accuracy: 0.8100 - val_loss: 0.4171 - val_accuracy: 0.8061 - val_auc: 0.8909 - val_precision: 0.8148 - val_recall: 0.8311 - val_binary_accuracy: 0.8061\n",
      "Epoch 31/50\n",
      "1040/1040 [==============================] - 5s 5ms/step - loss: 0.4053 - accuracy: 0.8101 - auc: 0.8986 - precision: 0.8304 - recall: 0.8162 - binary_accuracy: 0.8101 - val_loss: 0.4165 - val_accuracy: 0.8044 - val_auc: 0.8916 - val_precision: 0.8286 - val_recall: 0.8058 - val_binary_accuracy: 0.8044\n",
      "Epoch 32/50\n",
      "1040/1040 [==============================] - 5s 5ms/step - loss: 0.4044 - accuracy: 0.8099 - auc: 0.8989 - precision: 0.8296 - recall: 0.8169 - binary_accuracy: 0.8099 - val_loss: 0.4129 - val_accuracy: 0.8092 - val_auc: 0.8940 - val_precision: 0.8281 - val_recall: 0.8178 - val_binary_accuracy: 0.8092\n",
      "Epoch 33/50\n",
      "1040/1040 [==============================] - 5s 5ms/step - loss: 0.4031 - accuracy: 0.8118 - auc: 0.8995 - precision: 0.8310 - recall: 0.8191 - binary_accuracy: 0.8118 - val_loss: 0.4148 - val_accuracy: 0.8019 - val_auc: 0.8923 - val_precision: 0.8385 - val_recall: 0.7858 - val_binary_accuracy: 0.8019\n",
      "Epoch 34/50\n",
      "1040/1040 [==============================] - 5s 5ms/step - loss: 0.4018 - accuracy: 0.8123 - auc: 0.9003 - precision: 0.8315 - recall: 0.8196 - binary_accuracy: 0.8123 - val_loss: 0.4147 - val_accuracy: 0.8038 - val_auc: 0.8915 - val_precision: 0.8224 - val_recall: 0.8138 - val_binary_accuracy: 0.8038\n",
      "Epoch 35/50\n",
      "1040/1040 [==============================] - 5s 5ms/step - loss: 0.4012 - accuracy: 0.8122 - auc: 0.9006 - precision: 0.8314 - recall: 0.8195 - binary_accuracy: 0.8122 - val_loss: 0.4112 - val_accuracy: 0.8092 - val_auc: 0.8936 - val_precision: 0.8207 - val_recall: 0.8291 - val_binary_accuracy: 0.8092\n",
      "Epoch 36/50\n",
      "1040/1040 [==============================] - 5s 5ms/step - loss: 0.4003 - accuracy: 0.8132 - auc: 0.9009 - precision: 0.8317 - recall: 0.8213 - binary_accuracy: 0.8132 - val_loss: 0.4117 - val_accuracy: 0.8060 - val_auc: 0.8941 - val_precision: 0.8357 - val_recall: 0.7992 - val_binary_accuracy: 0.8060\n",
      "Epoch 37/50\n",
      "1040/1040 [==============================] - 5s 5ms/step - loss: 0.3990 - accuracy: 0.8134 - auc: 0.9015 - precision: 0.8325 - recall: 0.8208 - binary_accuracy: 0.8134 - val_loss: 0.4132 - val_accuracy: 0.8080 - val_auc: 0.8959 - val_precision: 0.8031 - val_recall: 0.8555 - val_binary_accuracy: 0.8080\n",
      "Epoch 38/50\n",
      "1040/1040 [==============================] - 5s 5ms/step - loss: 0.3976 - accuracy: 0.8139 - auc: 0.9021 - precision: 0.8326 - recall: 0.8218 - binary_accuracy: 0.8139 - val_loss: 0.4111 - val_accuracy: 0.8096 - val_auc: 0.8954 - val_precision: 0.8276 - val_recall: 0.8194 - val_binary_accuracy: 0.8096\n",
      "Epoch 39/50\n",
      "1040/1040 [==============================] - 5s 5ms/step - loss: 0.3962 - accuracy: 0.8150 - auc: 0.9030 - precision: 0.8332 - recall: 0.8232 - binary_accuracy: 0.8150 - val_loss: 0.4112 - val_accuracy: 0.8050 - val_auc: 0.8951 - val_precision: 0.8475 - val_recall: 0.7807 - val_binary_accuracy: 0.8050\n",
      "Epoch 40/50\n",
      "1040/1040 [==============================] - 5s 5ms/step - loss: 0.3950 - accuracy: 0.8158 - auc: 0.9036 - precision: 0.8342 - recall: 0.8237 - binary_accuracy: 0.8158 - val_loss: 0.4082 - val_accuracy: 0.8101 - val_auc: 0.8955 - val_precision: 0.8379 - val_recall: 0.8054 - val_binary_accuracy: 0.8101\n",
      "Epoch 41/50\n",
      "1040/1040 [==============================] - 5s 5ms/step - loss: 0.3940 - accuracy: 0.8161 - auc: 0.9040 - precision: 0.8340 - recall: 0.8247 - binary_accuracy: 0.8161 - val_loss: 0.4094 - val_accuracy: 0.8060 - val_auc: 0.8942 - val_precision: 0.8338 - val_recall: 0.8018 - val_binary_accuracy: 0.8060\n",
      "Epoch 42/50\n",
      "1040/1040 [==============================] - 5s 5ms/step - loss: 0.3926 - accuracy: 0.8160 - auc: 0.9046 - precision: 0.8340 - recall: 0.8243 - binary_accuracy: 0.8160 - val_loss: 0.4084 - val_accuracy: 0.8095 - val_auc: 0.8957 - val_precision: 0.8343 - val_recall: 0.8091 - val_binary_accuracy: 0.8095\n",
      "Epoch 43/50\n",
      "1040/1040 [==============================] - 5s 5ms/step - loss: 0.3912 - accuracy: 0.8178 - auc: 0.9053 - precision: 0.8357 - recall: 0.8261 - binary_accuracy: 0.8178 - val_loss: 0.4111 - val_accuracy: 0.8120 - val_auc: 0.8952 - val_precision: 0.8079 - val_recall: 0.8569 - val_binary_accuracy: 0.8120\n",
      "Epoch 44/50\n",
      "1040/1040 [==============================] - 5s 5ms/step - loss: 0.3901 - accuracy: 0.8174 - auc: 0.9056 - precision: 0.8349 - recall: 0.8264 - binary_accuracy: 0.8174 - val_loss: 0.4057 - val_accuracy: 0.8108 - val_auc: 0.8966 - val_precision: 0.8287 - val_recall: 0.8205 - val_binary_accuracy: 0.8108\n",
      "Epoch 45/50\n",
      "1040/1040 [==============================] - 5s 5ms/step - loss: 0.3881 - accuracy: 0.8182 - auc: 0.9065 - precision: 0.8354 - recall: 0.8274 - binary_accuracy: 0.8182 - val_loss: 0.4047 - val_accuracy: 0.8122 - val_auc: 0.8976 - val_precision: 0.8479 - val_recall: 0.7965 - val_binary_accuracy: 0.8122\n",
      "Epoch 46/50\n",
      "1040/1040 [==============================] - 5s 5ms/step - loss: 0.3866 - accuracy: 0.8194 - auc: 0.9073 - precision: 0.8368 - recall: 0.8283 - binary_accuracy: 0.8194 - val_loss: 0.4025 - val_accuracy: 0.8092 - val_auc: 0.8973 - val_precision: 0.8321 - val_recall: 0.8118 - val_binary_accuracy: 0.8092\n",
      "Epoch 47/50\n",
      "1040/1040 [==============================] - 5s 5ms/step - loss: 0.3848 - accuracy: 0.8199 - auc: 0.9078 - precision: 0.8377 - recall: 0.8281 - binary_accuracy: 0.8199 - val_loss: 0.4032 - val_accuracy: 0.8090 - val_auc: 0.8972 - val_precision: 0.8271 - val_recall: 0.8187 - val_binary_accuracy: 0.8090\n",
      "Epoch 48/50\n",
      "1040/1040 [==============================] - 5s 5ms/step - loss: 0.3833 - accuracy: 0.8201 - auc: 0.9086 - precision: 0.8378 - recall: 0.8281 - binary_accuracy: 0.8201 - val_loss: 0.4039 - val_accuracy: 0.8081 - val_auc: 0.8974 - val_precision: 0.8136 - val_recall: 0.8380 - val_binary_accuracy: 0.8081\n",
      "Epoch 49/50\n",
      "1040/1040 [==============================] - 5s 5ms/step - loss: 0.3817 - accuracy: 0.8209 - auc: 0.9092 - precision: 0.8377 - recall: 0.8303 - binary_accuracy: 0.8209 - val_loss: 0.4015 - val_accuracy: 0.8139 - val_auc: 0.8982 - val_precision: 0.8254 - val_recall: 0.8329 - val_binary_accuracy: 0.8139\n",
      "Epoch 50/50\n",
      "1040/1040 [==============================] - 5s 5ms/step - loss: 0.3802 - accuracy: 0.8224 - auc: 0.9099 - precision: 0.8396 - recall: 0.8308 - binary_accuracy: 0.8224 - val_loss: 0.3996 - val_accuracy: 0.8097 - val_auc: 0.8986 - val_precision: 0.8299 - val_recall: 0.8162 - val_binary_accuracy: 0.8097\n"
     ]
    }
   ],
   "source": [
    "history = model.fit([X_train, sX_train], Y_train, epochs=50, batch_size=64, validation_data=([X_val, sX_val], Y_val))"
   ]
  },
  {
   "cell_type": "code",
   "execution_count": 129,
   "metadata": {},
   "outputs": [
    {
     "name": "stdout",
     "output_type": "stream",
     "text": [
      "260/260 [==============================] - 0s 2ms/step - loss: 0.4069 - accuracy: 0.8061 - auc: 0.8965 - precision: 0.8281 - recall: 0.8100 - binary_accuracy: 0.8061\n"
     ]
    },
    {
     "data": {
      "text/plain": [
       "[0.406910240650177,\n",
       " 0.8060868382453918,\n",
       " 0.8964726328849792,\n",
       " 0.8280717730522156,\n",
       " 0.8100422024726868,\n",
       " 0.8060868382453918]"
      ]
     },
     "execution_count": 129,
     "metadata": {},
     "output_type": "execute_result"
    }
   ],
   "source": [
    "model.evaluate([X_test, sX_test], Y_test)"
   ]
  }
 ],
 "metadata": {
  "kernelspec": {
   "display_name": "myenv2",
   "language": "python",
   "name": "python3"
  },
  "language_info": {
   "codemirror_mode": {
    "name": "ipython",
    "version": 3
   },
   "file_extension": ".py",
   "mimetype": "text/x-python",
   "name": "python",
   "nbconvert_exporter": "python",
   "pygments_lexer": "ipython3",
   "version": "3.10.8"
  },
  "orig_nbformat": 4,
  "vscode": {
   "interpreter": {
    "hash": "4a3619d271b4c643b95a5446f40e8810ecac26b7cf79ba94de976123b20a1ba2"
   }
  }
 },
 "nbformat": 4,
 "nbformat_minor": 2
}
