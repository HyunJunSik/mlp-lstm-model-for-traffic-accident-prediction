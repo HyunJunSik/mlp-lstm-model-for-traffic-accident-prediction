{
 "cells": [
  {
   "cell_type": "code",
   "execution_count": 83,
   "metadata": {},
   "outputs": [],
   "source": [
    "import pandas as pd\n",
    "import numpy as np\n"
   ]
  },
  {
   "cell_type": "code",
   "execution_count": 92,
   "metadata": {},
   "outputs": [],
   "source": [
    "static_data = pd.read_csv('../accident/static_dataset.csv', encoding='cp949')\n",
    "non_static_data = pd.read_csv('../non_accident/non_static_dataset.csv', encoding='cp949')\n",
    "\n",
    "traffic_data = pd.read_csv('../accident/accident.csv', encoding='cp949')\n",
    "traffic_10min_before_data = pd.read_csv('../accident/accident_10min_before.csv', encoding='cp949')\n",
    "traffic_5min_before_data = pd.read_csv('../accident/accident_5min_before.csv', encoding='cp949')\n",
    "\n",
    "non_traffic_data = pd.read_csv('../non_accident/non_accident.csv', encoding='cp949')\n",
    "non_traffic_10min_before_data = pd.read_csv('../non_accident/non_accident_10min_before.csv', encoding='cp949')\n",
    "non_traffic_5min_before_data = pd.read_csv('../non_accident/non_accident_5min_before.csv', encoding='cp949')"
   ]
  },
  {
   "attachments": {},
   "cell_type": "markdown",
   "metadata": {},
   "source": [
    "## Drop speed nan data : accident"
   ]
  },
  {
   "cell_type": "code",
   "execution_count": 93,
   "metadata": {},
   "outputs": [],
   "source": [
    "for i in range(len(traffic_data)):\n",
    "    if np.isnan(traffic_data['speed'][i]) and np.isnan(traffic_10min_before_data['speed'][i]) and np.isnan(traffic_5min_before_data['speed'][i]):\n",
    "        traffic_data = traffic_data.drop([i])\n",
    "        traffic_10min_before_data = traffic_10min_before_data.drop([i])\n",
    "        traffic_5min_before_data = traffic_5min_before_data.drop([i])\n",
    "\n",
    "traffic_data = traffic_data.reset_index(drop=True)\n",
    "traffic_10min_before_data = traffic_10min_before_data.reset_index(drop=True)\n",
    "traffic_5min_before_data = traffic_5min_before_data.reset_index(drop=True)"
   ]
  },
  {
   "attachments": {},
   "cell_type": "markdown",
   "metadata": {},
   "source": [
    "## Drop speed nan data : non_accident"
   ]
  },
  {
   "cell_type": "code",
   "execution_count": 94,
   "metadata": {},
   "outputs": [],
   "source": [
    "for i in range(len(non_traffic_data)):\n",
    "    if np.isnan(non_traffic_data['speed'][i]) and np.isnan(non_traffic_10min_before_data['speed'][i]) and np.isnan(non_traffic_5min_before_data['speed'][i]):\n",
    "        non_traffic_data = non_traffic_data.drop([i])\n",
    "        non_traffic_10min_before_data = non_traffic_10min_before_data.drop([i])\n",
    "        non_traffic_5min_before_data = non_traffic_5min_before_data.drop([i])\n",
    "\n",
    "non_traffic_data = non_traffic_data.reset_index(drop=True)\n",
    "non_traffic_10min_before_data = non_traffic_10min_before_data.reset_index(drop=True)\n",
    "non_traffic_5min_before_data = non_traffic_5min_before_data.reset_index(drop=True)"
   ]
  },
  {
   "attachments": {},
   "cell_type": "markdown",
   "metadata": {},
   "source": [
    "### 보간법으로 메꿔보자..!\n",
    "약 1만개의 보간해야하는 데이터가 존재. \n",
    "각 시간별 3개씩 묶어서 하나의 데이터프레임 만든 뒤, interpolate 수행\n",
    "그리고 다시 3개를 분리해서 각각의 speed에 저장  "
   ]
  },
  {
   "cell_type": "code",
   "execution_count": 95,
   "metadata": {},
   "outputs": [
    {
     "name": "stderr",
     "output_type": "stream",
     "text": [
      "/var/folders/b8/37xj59hs2zg1yv90fhkh45n40000gn/T/ipykernel_76575/2979290878.py:5: SettingWithCopyWarning: \n",
      "A value is trying to be set on a copy of a slice from a DataFrame\n",
      "\n",
      "See the caveats in the documentation: https://pandas.pydata.org/pandas-docs/stable/user_guide/indexing.html#returning-a-view-versus-a-copy\n",
      "  traffic_data['speed'][i] = one_speed[0][0]\n",
      "/var/folders/b8/37xj59hs2zg1yv90fhkh45n40000gn/T/ipykernel_76575/2979290878.py:6: SettingWithCopyWarning: \n",
      "A value is trying to be set on a copy of a slice from a DataFrame\n",
      "\n",
      "See the caveats in the documentation: https://pandas.pydata.org/pandas-docs/stable/user_guide/indexing.html#returning-a-view-versus-a-copy\n",
      "  traffic_5min_before_data['speed'][i] = one_speed[0][1]\n",
      "/var/folders/b8/37xj59hs2zg1yv90fhkh45n40000gn/T/ipykernel_76575/2979290878.py:7: SettingWithCopyWarning: \n",
      "A value is trying to be set on a copy of a slice from a DataFrame\n",
      "\n",
      "See the caveats in the documentation: https://pandas.pydata.org/pandas-docs/stable/user_guide/indexing.html#returning-a-view-versus-a-copy\n",
      "  traffic_10min_before_data['speed'][i] = one_speed[0][2]\n",
      "/var/folders/b8/37xj59hs2zg1yv90fhkh45n40000gn/T/ipykernel_76575/2979290878.py:13: SettingWithCopyWarning: \n",
      "A value is trying to be set on a copy of a slice from a DataFrame\n",
      "\n",
      "See the caveats in the documentation: https://pandas.pydata.org/pandas-docs/stable/user_guide/indexing.html#returning-a-view-versus-a-copy\n",
      "  non_traffic_data['speed'][i] = one_speed[0][0]\n",
      "/var/folders/b8/37xj59hs2zg1yv90fhkh45n40000gn/T/ipykernel_76575/2979290878.py:14: SettingWithCopyWarning: \n",
      "A value is trying to be set on a copy of a slice from a DataFrame\n",
      "\n",
      "See the caveats in the documentation: https://pandas.pydata.org/pandas-docs/stable/user_guide/indexing.html#returning-a-view-versus-a-copy\n",
      "  non_traffic_5min_before_data['speed'][i] = one_speed[0][1]\n",
      "/var/folders/b8/37xj59hs2zg1yv90fhkh45n40000gn/T/ipykernel_76575/2979290878.py:15: SettingWithCopyWarning: \n",
      "A value is trying to be set on a copy of a slice from a DataFrame\n",
      "\n",
      "See the caveats in the documentation: https://pandas.pydata.org/pandas-docs/stable/user_guide/indexing.html#returning-a-view-versus-a-copy\n",
      "  non_traffic_10min_before_data['speed'][i] = one_speed[0][2]\n"
     ]
    }
   ],
   "source": [
    "for i in range(len(traffic_data)):\n",
    "    if np.isnan(traffic_data['speed'][i]) or np.isnan(traffic_10min_before_data['speed'][i]) or np.isnan(traffic_5min_before_data['speed'][i]):\n",
    "        one_speed = pd.DataFrame([traffic_data['speed'][i], traffic_5min_before_data['speed'][i], traffic_10min_before_data['speed'][i]])\n",
    "        one_speed = one_speed.interpolate(method='linear')\n",
    "        traffic_data['speed'][i] = one_speed[0][0]\n",
    "        traffic_5min_before_data['speed'][i] = one_speed[0][1]\n",
    "        traffic_10min_before_data['speed'][i] = one_speed[0][2]\n",
    "\n",
    "for i in range(len(non_traffic_data)):\n",
    "    if np.isnan(non_traffic_data['speed'][i]) or np.isnan(non_traffic_10min_before_data['speed'][i]) or np.isnan(non_traffic_5min_before_data['speed'][i]):\n",
    "        one_speed = pd.DataFrame([non_traffic_data['speed'][i], non_traffic_5min_before_data['speed'][i], non_traffic_10min_before_data['speed'][i]])\n",
    "        one_speed = one_speed.interpolate(method='linear')\n",
    "        non_traffic_data['speed'][i] = one_speed[0][0]\n",
    "        non_traffic_5min_before_data['speed'][i] = one_speed[0][1]\n",
    "        non_traffic_10min_before_data['speed'][i] = one_speed[0][2]"
   ]
  },
  {
   "cell_type": "code",
   "execution_count": 98,
   "metadata": {},
   "outputs": [
    {
     "name": "stderr",
     "output_type": "stream",
     "text": [
      "/var/folders/b8/37xj59hs2zg1yv90fhkh45n40000gn/T/ipykernel_76575/343735988.py:3: SettingWithCopyWarning: \n",
      "A value is trying to be set on a copy of a slice from a DataFrame\n",
      "\n",
      "See the caveats in the documentation: https://pandas.pydata.org/pandas-docs/stable/user_guide/indexing.html#returning-a-view-versus-a-copy\n",
      "  traffic_5min_before_data['speed'][i] = traffic_10min_before_data['speed'][i]\n",
      "/var/folders/b8/37xj59hs2zg1yv90fhkh45n40000gn/T/ipykernel_76575/343735988.py:4: SettingWithCopyWarning: \n",
      "A value is trying to be set on a copy of a slice from a DataFrame\n",
      "\n",
      "See the caveats in the documentation: https://pandas.pydata.org/pandas-docs/stable/user_guide/indexing.html#returning-a-view-versus-a-copy\n",
      "  traffic_data['speed'][i] = traffic_5min_before_data['speed'][i]\n"
     ]
    }
   ],
   "source": [
    "for i in range(len(traffic_data)):\n",
    "    if np.isnan(traffic_data['speed'][i]) or np.isnan(traffic_10min_before_data['speed'][i]) or np.isnan(traffic_5min_before_data['speed'][i]):\n",
    "        traffic_5min_before_data['speed'][i] = traffic_10min_before_data['speed'][i]\n",
    "        traffic_data['speed'][i] = traffic_5min_before_data['speed'][i]"
   ]
  },
  {
   "cell_type": "code",
   "execution_count": 101,
   "metadata": {},
   "outputs": [
    {
     "name": "stderr",
     "output_type": "stream",
     "text": [
      "/var/folders/b8/37xj59hs2zg1yv90fhkh45n40000gn/T/ipykernel_76575/1535596552.py:3: SettingWithCopyWarning: \n",
      "A value is trying to be set on a copy of a slice from a DataFrame\n",
      "\n",
      "See the caveats in the documentation: https://pandas.pydata.org/pandas-docs/stable/user_guide/indexing.html#returning-a-view-versus-a-copy\n",
      "  non_traffic_5min_before_data['speed'][i] = non_traffic_10min_before_data['speed'][i]\n",
      "/var/folders/b8/37xj59hs2zg1yv90fhkh45n40000gn/T/ipykernel_76575/1535596552.py:4: SettingWithCopyWarning: \n",
      "A value is trying to be set on a copy of a slice from a DataFrame\n",
      "\n",
      "See the caveats in the documentation: https://pandas.pydata.org/pandas-docs/stable/user_guide/indexing.html#returning-a-view-versus-a-copy\n",
      "  non_traffic_data['speed'][i] = non_traffic_5min_before_data['speed'][i]\n"
     ]
    }
   ],
   "source": [
    "for i in range(len(non_traffic_data)):\n",
    "    if np.isnan(non_traffic_data['speed'][i]) or np.isnan(non_traffic_10min_before_data['speed'][i]) or np.isnan(non_traffic_5min_before_data['speed'][i]):\n",
    "        non_traffic_5min_before_data['speed'][i] = non_traffic_10min_before_data['speed'][i]\n",
    "        non_traffic_data['speed'][i] = non_traffic_5min_before_data['speed'][i]"
   ]
  },
  {
   "cell_type": "code",
   "execution_count": null,
   "metadata": {},
   "outputs": [],
   "source": [
    "traffic_data.to_csv('traffic_data.csv')\n",
    "traffic_10min_before_data.to_csv('traffic_10min_before_data.csv')\n",
    "traffic_5min_before_data.to_csv('traffic_5min_before_data.csv')\n",
    "\n",
    "non_traffic_data.to_csv('non_traffic_data.csv')\n",
    "non_traffic_10min_before_data.to_csv('non_traffic_10min_before_data.csv')\n",
    "non_traffic_5min_before_data.to_csv('non_traffic_5min_before_data.csv')"
   ]
  }
 ],
 "metadata": {
  "kernelspec": {
   "display_name": "myenv2",
   "language": "python",
   "name": "python3"
  },
  "language_info": {
   "codemirror_mode": {
    "name": "ipython",
    "version": 3
   },
   "file_extension": ".py",
   "mimetype": "text/x-python",
   "name": "python",
   "nbconvert_exporter": "python",
   "pygments_lexer": "ipython3",
   "version": "3.10.9"
  },
  "orig_nbformat": 4,
  "vscode": {
   "interpreter": {
    "hash": "4a3619d271b4c643b95a5446f40e8810ecac26b7cf79ba94de976123b20a1ba2"
   }
  }
 },
 "nbformat": 4,
 "nbformat_minor": 2
}
